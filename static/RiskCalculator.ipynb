{
 "cells": [
  {
   "cell_type": "markdown",
   "id": "e494d458",
   "metadata": {},
   "source": [
    "### 10 Year Risk Calculator"
   ]
  },
  {
   "cell_type": "code",
   "execution_count": null,
   "id": "520983da",
   "metadata": {},
   "outputs": [],
   "source": [
    "# Variables ->\n",
    "# 1. Smoking \n",
    "smoking = \"yes\"\n",
    "# 2. Diabetes\n",
    "diabetes = \"no\"\n",
    "# 3a. BP Systolic \n",
    "bp_s = 134\n",
    "# 3b. BP Diastolic\n",
    "bp_d = 90\n",
    "# 4. Age\n",
    "age = 49\n",
    "# 5. HDL Cholesterol\n",
    "hdl = 1.16\n",
    "# 6. total cholesterol\n",
    "tc = 6.5\n",
    "# 7. gender\n",
    "gender = \"male\"\n",
    "\n",
    "# Add unit coversion in variable inputs"
   ]
  },
  {
   "cell_type": "code",
   "execution_count": 30,
   "id": "aaae0a8e",
   "metadata": {},
   "outputs": [],
   "source": [
    "# Converting input to points ->\n",
    "import numpy as np\n",
    "import pandas as pd\n",
    "\n",
    "df_age = pd.read_csv(\"Age_chart.csv\")\n",
    "df_smoking = pd.read_csv(\"Smoking.csv\")\n",
    "df_diabetes = pd.read_csv(\"Diabetes.csv\")\n",
    "df_tc = pd.read_csv(\"total_cholesterol.csv\")\n",
    "df_hdl = pd.read_csv(\"HDL_cholesterol.csv\")\n",
    "df_bp = pd.read_csv(\"BP_chart.csv\")"
   ]
  },
  {
   "cell_type": "code",
   "execution_count": 31,
   "id": "280c01e6",
   "metadata": {},
   "outputs": [
    {
     "data": {
      "text/plain": [
       "2"
      ]
     },
     "execution_count": 31,
     "metadata": {},
     "output_type": "execute_result"
    }
   ],
   "source": [
    "# age\n",
    "for row in df_age.index:\n",
    "    if age <= df_age[\"Age_high\"][row]:\n",
    "        break\n",
    "age_point = df_age[gender.title()][row]\n",
    "age_point"
   ]
  },
  {
   "cell_type": "code",
   "execution_count": 32,
   "id": "acc1a392",
   "metadata": {},
   "outputs": [
    {
     "data": {
      "text/plain": [
       "2"
      ]
     },
     "execution_count": 32,
     "metadata": {},
     "output_type": "execute_result"
    }
   ],
   "source": [
    "# smoking\n",
    "for row in df_smoking.index:\n",
    "    if df_smoking[\"Smoking\"][row] == smoking.title():\n",
    "        break\n",
    "smoking_point = df_smoking[gender.lower()][row]\n",
    "smoking_point"
   ]
  },
  {
   "cell_type": "code",
   "execution_count": 33,
   "id": "1b5ca4ef",
   "metadata": {},
   "outputs": [
    {
     "data": {
      "text/plain": [
       "0"
      ]
     },
     "execution_count": 33,
     "metadata": {},
     "output_type": "execute_result"
    }
   ],
   "source": [
    "# diabetes\n",
    "for row in df_diabetes.index:\n",
    "    if df_diabetes[\"diabetes\"][row] == diabetes.title():\n",
    "        break\n",
    "diabetes_point = df_diabetes[gender.lower()][row]\n",
    "diabetes_point"
   ]
  },
  {
   "cell_type": "code",
   "execution_count": 34,
   "id": "a3c3e19b",
   "metadata": {},
   "outputs": [
    {
     "data": {
      "text/plain": [
       "1"
      ]
     },
     "execution_count": 34,
     "metadata": {},
     "output_type": "execute_result"
    }
   ],
   "source": [
    "# hdl cholesterol\n",
    "for row in df_hdl.index:\n",
    "    if hdl <= df_hdl[\"hdl_high\"][row]:\n",
    "        break\n",
    "hdl_point = df_hdl[gender.lower()][row]\n",
    "hdl_point"
   ]
  },
  {
   "cell_type": "code",
   "execution_count": 35,
   "id": "1143d918",
   "metadata": {},
   "outputs": [
    {
     "data": {
      "text/plain": [
       "2"
      ]
     },
     "execution_count": 35,
     "metadata": {},
     "output_type": "execute_result"
    }
   ],
   "source": [
    "# tc\n",
    "for row in df_tc.index:\n",
    "    if tc <= df_tc[\"Cholesterol_high\"][row]:\n",
    "        break\n",
    "tc_point = df_tc[gender.title()][row]\n",
    "tc_point"
   ]
  },
  {
   "cell_type": "code",
   "execution_count": 36,
   "id": "fc85751f",
   "metadata": {},
   "outputs": [
    {
     "data": {
      "text/plain": [
       "2"
      ]
     },
     "execution_count": 36,
     "metadata": {},
     "output_type": "execute_result"
    }
   ],
   "source": [
    "# BP\n",
    "for row in df_tc.index:\n",
    "    if bp_s <= df_bp[\"Systolic_BP_high\"][row]:\n",
    "        break\n",
    "for row in range(row, row+7, 1):\n",
    "    if bp_d <= df_bp[\"Diastolic_BP_high\"][row]:\n",
    "        break\n",
    "bp_point = df_bp[gender.lower()][row]\n",
    "bp_point"
   ]
  },
  {
   "cell_type": "code",
   "execution_count": 37,
   "id": "c8e0b990",
   "metadata": {},
   "outputs": [
    {
     "data": {
      "text/plain": [
       "9"
      ]
     },
     "execution_count": 37,
     "metadata": {},
     "output_type": "execute_result"
    }
   ],
   "source": [
    "# Points to risk value ->\n",
    "risk_points = age_point + smoking_point + diabetes_point + tc_point + hdl_point + bp_point\n",
    "risk_points"
   ]
  },
  {
   "cell_type": "code",
   "execution_count": 38,
   "id": "93db2f91",
   "metadata": {},
   "outputs": [],
   "source": [
    "df_points_to_risk = pd.read_csv(\"points_to_score.csv\")"
   ]
  },
  {
   "cell_type": "code",
   "execution_count": 39,
   "id": "eb0e46da",
   "metadata": {},
   "outputs": [],
   "source": [
    "#Final display ->\n",
    "for row in df_points_to_risk.index:\n",
    "    if risk_points == df_points_to_risk[\"total_score\"][row]:\n",
    "        break\n",
    "risk_percentage = df_points_to_risk[gender.lower()+\"_risk\"][row]"
   ]
  },
  {
   "cell_type": "markdown",
   "id": "e0fa7273",
   "metadata": {},
   "source": [
    "#### Final Output ->"
   ]
  },
  {
   "cell_type": "code",
   "execution_count": 40,
   "id": "428727b6",
   "metadata": {},
   "outputs": [
    {
     "name": "stdout",
     "output_type": "stream",
     "text": [
      "20\n"
     ]
    }
   ],
   "source": [
    "print(risk_percentage)"
   ]
  },
  {
   "cell_type": "code",
   "execution_count": 42,
   "id": "c57641db",
   "metadata": {},
   "outputs": [],
   "source": [
    "# Systolic BP - Yes\n",
    "# Total Chelosterol - Yes\n",
    "# triglycerides - No\n",
    "# LDL - No"
   ]
  },
  {
   "cell_type": "code",
   "execution_count": 43,
   "id": "290b6006",
   "metadata": {},
   "outputs": [],
   "source": [
    "# Calculator - Europe (Done) + Greek -- Pratik "
   ]
  },
  {
   "cell_type": "code",
   "execution_count": 49,
   "id": "fb14f6be",
   "metadata": {},
   "outputs": [],
   "source": [
    "# Connection Database - Patient ID  - Fetch - risk score -- \n",
    "# Create Database + API -- Hui + Lucas + Rojack --> \n",
    "# 1. Dummy Dataset -- excel \n",
    "# 2. Online database - to store - fetch using flask + Sqlite or MongoDB + Flask \n",
    "# Database == 1. Old Patent Data\n"
   ]
  },
  {
   "cell_type": "code",
   "execution_count": 46,
   "id": "21866b99",
   "metadata": {},
   "outputs": [],
   "source": [
    "# Frontend + website -- Ameya + Pratik"
   ]
  },
  {
   "cell_type": "code",
   "execution_count": null,
   "id": "ca29da8e",
   "metadata": {},
   "outputs": [],
   "source": []
  }
 ],
 "metadata": {
  "kernelspec": {
   "display_name": "Python 3 (ipykernel)",
   "language": "python",
   "name": "python3"
  },
  "language_info": {
   "codemirror_mode": {
    "name": "ipython",
    "version": 3
   },
   "file_extension": ".py",
   "mimetype": "text/x-python",
   "name": "python",
   "nbconvert_exporter": "python",
   "pygments_lexer": "ipython3",
   "version": "3.8.11"
  }
 },
 "nbformat": 4,
 "nbformat_minor": 5
}
