{
 "cells": [
  {
   "cell_type": "code",
   "execution_count": 1,
   "id": "2260088a",
   "metadata": {},
   "outputs": [],
   "source": [
    "# Variables ->\n",
    "\n",
    "\n",
    "# Systolic BP - mmHg\n",
    "bp_s = 189\n",
    "\n",
    "# Total Chelosterol - mg/dl\n",
    "tc = 232\n",
    "\n",
    "# Smoking - \n",
    "smoking = \"No\"\n",
    "\n",
    "# Gender - \n",
    "gender = \"male\"\n",
    "\n",
    "# Age - \n",
    "age = 64\n"
   ]
  },
  {
   "cell_type": "code",
   "execution_count": 2,
   "id": "a075ebdb",
   "metadata": {},
   "outputs": [],
   "source": [
    "bp_s_range = [120, 140, 160, 180]\n",
    "tc_range = [150, 190, 230, 270, 310]\n",
    "age_range = [40, 50, 55, 60, 65]"
   ]
  },
  {
   "cell_type": "code",
   "execution_count": 3,
   "id": "a7fcb0b6",
   "metadata": {},
   "outputs": [],
   "source": [
    "def get_basket(variable, variable_range):\n",
    "    for i in range(len(variable_range)):\n",
    "        if variable_range[i] > variable:\n",
    "            try:\n",
    "                return variable_range[i-1]\n",
    "            except:\n",
    "                print(\"Given value is not valid input\")\n",
    "    return variable_range[-1]"
   ]
  },
  {
   "cell_type": "code",
   "execution_count": 4,
   "id": "971ab23b",
   "metadata": {},
   "outputs": [
    {
     "data": {
      "text/plain": [
       "180"
      ]
     },
     "execution_count": 4,
     "metadata": {},
     "output_type": "execute_result"
    }
   ],
   "source": [
    "bp_s_basket = get_basket(bp_s, bp_s_range)\n",
    "bp_s_basket"
   ]
  },
  {
   "cell_type": "code",
   "execution_count": 5,
   "id": "0b385188",
   "metadata": {},
   "outputs": [
    {
     "data": {
      "text/plain": [
       "230"
      ]
     },
     "execution_count": 5,
     "metadata": {},
     "output_type": "execute_result"
    }
   ],
   "source": [
    "tc_basket = get_basket(tc, tc_range)\n",
    "tc_basket"
   ]
  },
  {
   "cell_type": "code",
   "execution_count": 6,
   "id": "ee1bec43",
   "metadata": {},
   "outputs": [
    {
     "data": {
      "text/plain": [
       "60"
      ]
     },
     "execution_count": 6,
     "metadata": {},
     "output_type": "execute_result"
    }
   ],
   "source": [
    "age_basket = get_basket(age, age_range)\n",
    "age_basket"
   ]
  },
  {
   "cell_type": "code",
   "execution_count": 7,
   "id": "cef1d3ac",
   "metadata": {},
   "outputs": [],
   "source": [
    "import pandas as pd"
   ]
  },
  {
   "cell_type": "code",
   "execution_count": 8,
   "id": "7a8b9f55",
   "metadata": {},
   "outputs": [],
   "source": [
    "df = pd.read_csv(\"GreekDataSet-2.csv\")"
   ]
  },
  {
   "cell_type": "code",
   "execution_count": 9,
   "id": "eed38c24",
   "metadata": {},
   "outputs": [
    {
     "data": {
      "text/html": [
       "<div>\n",
       "<style scoped>\n",
       "    .dataframe tbody tr th:only-of-type {\n",
       "        vertical-align: middle;\n",
       "    }\n",
       "\n",
       "    .dataframe tbody tr th {\n",
       "        vertical-align: top;\n",
       "    }\n",
       "\n",
       "    .dataframe thead th {\n",
       "        text-align: right;\n",
       "    }\n",
       "</style>\n",
       "<table border=\"1\" class=\"dataframe\">\n",
       "  <thead>\n",
       "    <tr style=\"text-align: right;\">\n",
       "      <th></th>\n",
       "      <th>Gender</th>\n",
       "      <th>Smoking</th>\n",
       "      <th>Age</th>\n",
       "      <th>Systollic_BP</th>\n",
       "      <th>TC</th>\n",
       "      <th>Risk</th>\n",
       "    </tr>\n",
       "  </thead>\n",
       "  <tbody>\n",
       "    <tr>\n",
       "      <th>0</th>\n",
       "      <td>female</td>\n",
       "      <td>No</td>\n",
       "      <td>40</td>\n",
       "      <td>120</td>\n",
       "      <td>150</td>\n",
       "      <td>0</td>\n",
       "    </tr>\n",
       "    <tr>\n",
       "      <th>1</th>\n",
       "      <td>female</td>\n",
       "      <td>No</td>\n",
       "      <td>40</td>\n",
       "      <td>120</td>\n",
       "      <td>190</td>\n",
       "      <td>0</td>\n",
       "    </tr>\n",
       "    <tr>\n",
       "      <th>2</th>\n",
       "      <td>female</td>\n",
       "      <td>No</td>\n",
       "      <td>40</td>\n",
       "      <td>120</td>\n",
       "      <td>230</td>\n",
       "      <td>0</td>\n",
       "    </tr>\n",
       "    <tr>\n",
       "      <th>3</th>\n",
       "      <td>female</td>\n",
       "      <td>No</td>\n",
       "      <td>40</td>\n",
       "      <td>120</td>\n",
       "      <td>270</td>\n",
       "      <td>0</td>\n",
       "    </tr>\n",
       "    <tr>\n",
       "      <th>4</th>\n",
       "      <td>female</td>\n",
       "      <td>No</td>\n",
       "      <td>40</td>\n",
       "      <td>120</td>\n",
       "      <td>310</td>\n",
       "      <td>0</td>\n",
       "    </tr>\n",
       "  </tbody>\n",
       "</table>\n",
       "</div>"
      ],
      "text/plain": [
       "   Gender Smoking  Age  Systollic_BP   TC  Risk\n",
       "0  female      No   40           120  150     0\n",
       "1  female      No   40           120  190     0\n",
       "2  female      No   40           120  230     0\n",
       "3  female      No   40           120  270     0\n",
       "4  female      No   40           120  310     0"
      ]
     },
     "execution_count": 9,
     "metadata": {},
     "output_type": "execute_result"
    }
   ],
   "source": [
    "df.head()"
   ]
  },
  {
   "cell_type": "code",
   "execution_count": 10,
   "id": "7b0ddcd9",
   "metadata": {},
   "outputs": [
    {
     "data": {
      "text/plain": [
       "9"
      ]
     },
     "execution_count": 10,
     "metadata": {},
     "output_type": "execute_result"
    }
   ],
   "source": [
    "df = df[(df[\"Gender\"] == gender) \n",
    "        & (df[\"Smoking\"] == smoking) \n",
    "        & (df[\"Age\"] == age_basket) \n",
    "        & (df[\"Systollic_BP\"] == bp_s_basket)\n",
    "        & (df[\"TC\"] == tc_basket) ]\n",
    "\n",
    "df[\"Risk\"].values[0]"
   ]
  },
  {
   "cell_type": "code",
   "execution_count": null,
   "id": "3c7d15e3",
   "metadata": {},
   "outputs": [],
   "source": []
  },
  {
   "cell_type": "code",
   "execution_count": null,
   "id": "293a31f9",
   "metadata": {},
   "outputs": [],
   "source": []
  },
  {
   "cell_type": "code",
   "execution_count": null,
   "id": "b89af873",
   "metadata": {},
   "outputs": [],
   "source": []
  }
 ],
 "metadata": {
  "kernelspec": {
   "display_name": "Python 3 (ipykernel)",
   "language": "python",
   "name": "python3"
  },
  "language_info": {
   "codemirror_mode": {
    "name": "ipython",
    "version": 3
   },
   "file_extension": ".py",
   "mimetype": "text/x-python",
   "name": "python",
   "nbconvert_exporter": "python",
   "pygments_lexer": "ipython3",
   "version": "3.8.11"
  }
 },
 "nbformat": 4,
 "nbformat_minor": 5
}
