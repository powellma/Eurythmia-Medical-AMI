{
 "cells": [
  {
   "cell_type": "code",
   "execution_count": 43,
   "id": "4d59c8f7",
   "metadata": {},
   "outputs": [],
   "source": [
    "Gender = 'male'\n",
    "age = 56\n",
    "smoking = \"yes\"\n",
    "diabetes = \"no\"\n",
    "systolic_bp = 150\n",
    "diastolic_bp = 80\n",
    "hdl = 1.16\n",
    "tc = 6.5"
   ]
  },
  {
   "cell_type": "code",
   "execution_count": 45,
   "id": "ed63f544",
   "metadata": {},
   "outputs": [
    {
     "data": {
      "text/plain": [
       "4"
      ]
     },
     "execution_count": 45,
     "metadata": {},
     "output_type": "execute_result"
    }
   ],
   "source": [
    "# Age\n",
    "import sqlite3, csv\n",
    "conn = sqlite3.connect(\"main.db\")\n",
    "cur = conn.cursor()\n",
    "sql = \"\"\"\n",
    "SELECT \"\"\"+Gender.title()+\"\"\" FROM Age_chart\n",
    "Where \"\"\"+str(age)+\"\"\" BETWEEN Age_low AND Age_high;\n",
    "\"\"\"\n",
    "cur.execute(sql)\n",
    "age_pointer = cur.fetchall()\n",
    "conn.close()\n",
    "age_pointer = age_pointer[0][0]\n",
    "age_pointer"
   ]
  },
  {
   "cell_type": "code",
   "execution_count": 31,
   "id": "fc815062",
   "metadata": {},
   "outputs": [
    {
     "data": {
      "text/plain": [
       "2"
      ]
     },
     "execution_count": 31,
     "metadata": {},
     "output_type": "execute_result"
    }
   ],
   "source": [
    "# Smoking\n",
    "import sqlite3, csv\n",
    "conn = sqlite3.connect(\"main.db\")\n",
    "cur = conn.cursor()\n",
    "sql = \"\"\"\n",
    "SELECT \"\"\"+Gender.title()+\"\"\" FROM Smoking_chart\n",
    "WHERE Smoking == \"\"\"+\"\\\"\"+smoking.title()+\"\\\"\"+\"\"\" ;\n",
    "\"\"\"\n",
    "cur.execute(sql)\n",
    "smoking_pointer = cur.fetchall()\n",
    "conn.close()\n",
    "smoking_pointer = smoking_pointer[0][0]\n",
    "smoking_pointer"
   ]
  },
  {
   "cell_type": "code",
   "execution_count": 32,
   "id": "d0b4e090",
   "metadata": {},
   "outputs": [
    {
     "data": {
      "text/plain": [
       "0"
      ]
     },
     "execution_count": 32,
     "metadata": {},
     "output_type": "execute_result"
    }
   ],
   "source": [
    "# Diabetes\n",
    "import sqlite3, csv\n",
    "conn = sqlite3.connect(\"main.db\")\n",
    "cur = conn.cursor()\n",
    "sql = \"\"\"\n",
    "SELECT \"\"\"+Gender.title()+\"\"\" FROM Diabetes_chart\n",
    "WHERE Diabetes == \"\"\"+\"\\\"\"+diabetes.title()+\"\\\"\"+\"\"\" ;\n",
    "\"\"\"\n",
    "cur.execute(sql)\n",
    "diabetes_pointer = cur.fetchall()\n",
    "conn.close()\n",
    "diabetes_pointer = diabetes_pointer[0][0]\n",
    "diabetes_pointer"
   ]
  },
  {
   "cell_type": "code",
   "execution_count": 37,
   "id": "5767c440",
   "metadata": {},
   "outputs": [
    {
     "data": {
      "text/plain": [
       "2"
      ]
     },
     "execution_count": 37,
     "metadata": {},
     "output_type": "execute_result"
    }
   ],
   "source": [
    "# BP\n",
    "import sqlite3, csv\n",
    "conn = sqlite3.connect(\"main.db\")\n",
    "cur = conn.cursor()\n",
    "sql = \"\"\"\n",
    "SELECT \"\"\"+Gender.title()+\"\"\" FROM BP_chart\n",
    "Where \"\"\"+str(systolic_bp)+\"\"\" BETWEEN Systolic_BP_low AND Systolic_BP_high\n",
    "AND \"\"\"+str(diastolic_bp)+\"\"\" BETWEEN Diastolic_BP_low AND Diastolic_BP_high;\n",
    "\"\"\"\n",
    "cur.execute(sql)\n",
    "bp_pointer = cur.fetchall()\n",
    "conn.close()\n",
    "bp_pointer = bp_pointer[0][0]\n",
    "bp_pointer"
   ]
  },
  {
   "cell_type": "code",
   "execution_count": 42,
   "id": "b72ed48e",
   "metadata": {},
   "outputs": [
    {
     "data": {
      "text/plain": [
       "1"
      ]
     },
     "execution_count": 42,
     "metadata": {},
     "output_type": "execute_result"
    }
   ],
   "source": [
    "# HDL Cholesterol\n",
    "import sqlite3, csv\n",
    "conn = sqlite3.connect(\"main.db\")\n",
    "cur = conn.cursor()\n",
    "sql = \"\"\"\n",
    "SELECT \"\"\"+Gender.title()+\"\"\" FROM HDLCholesterol_chart\n",
    "Where \"\"\"+str(hdl)+\"\"\" BETWEEN HDL_low AND HDL_high;\n",
    "\"\"\"\n",
    "cur.execute(sql)\n",
    "hdl_pointer = cur.fetchall()\n",
    "conn.close()\n",
    "hdl_pointer = hdl_pointer[0][0]\n",
    "hdl_pointer"
   ]
  },
  {
   "cell_type": "code",
   "execution_count": 44,
   "id": "a0be3fcd",
   "metadata": {},
   "outputs": [
    {
     "data": {
      "text/plain": [
       "2"
      ]
     },
     "execution_count": 44,
     "metadata": {},
     "output_type": "execute_result"
    }
   ],
   "source": [
    "# Total Cholesterol\n",
    "import sqlite3, csv\n",
    "conn = sqlite3.connect(\"main.db\")\n",
    "cur = conn.cursor()\n",
    "sql = \"\"\"\n",
    "SELECT \"\"\"+Gender.title()+\"\"\" FROM TC_chart\n",
    "Where \"\"\"+str(tc)+\"\"\" BETWEEN Cholesterol_low AND Cholesterol_high;\n",
    "\"\"\"\n",
    "cur.execute(sql)\n",
    "tc_pointer = cur.fetchall()\n",
    "conn.close()\n",
    "tc_pointer = tc_pointer[0][0]\n",
    "tc_pointer"
   ]
  },
  {
   "cell_type": "code",
   "execution_count": 63,
   "id": "a2bd232f",
   "metadata": {},
   "outputs": [
    {
     "data": {
      "text/plain": [
       "31"
      ]
     },
     "execution_count": 63,
     "metadata": {},
     "output_type": "execute_result"
    }
   ],
   "source": [
    "total_score = age_pointer + tc_pointer + hdl_pointer + bp_pointer + diabetes_pointer + smoking_pointer \n",
    "# Points to Risk\n",
    "import sqlite3, csv\n",
    "conn = sqlite3.connect(\"main.db\")\n",
    "cur = conn.cursor()\n",
    "sql = \"\"\"\n",
    "SELECT \"\"\"+Gender.title()+\"\"\"Risk FROM PointsToScore_chart\n",
    "Where TotalScore == \"\"\"+str(total_score)+\"\"\";\n",
    "\"\"\"\n",
    "cur.execute(sql)\n",
    "pts_pointer = cur.fetchall()\n",
    "conn.close()\n",
    "pts_pointer = pts_pointer[0][0]\n",
    "pts_pointer"
   ]
  },
  {
   "cell_type": "code",
   "execution_count": 66,
   "id": "a57e362c",
   "metadata": {},
   "outputs": [
    {
     "data": {
      "text/plain": [
       "'high risk'"
      ]
     },
     "execution_count": 66,
     "metadata": {},
     "output_type": "execute_result"
    }
   ],
   "source": [
    "# Risk Category\n",
    "import sqlite3, csv\n",
    "conn = sqlite3.connect(\"main.db\")\n",
    "cur = conn.cursor()\n",
    "\n",
    "sql = \"\"\"\n",
    "SELECT Category FROM RiskCategory_chart\n",
    "Where \"\"\"+str(pts_pointer)+\"\"\" BETWEEN Risk_low AND Risk_high;\n",
    "\"\"\"\n",
    "cur.execute(sql)\n",
    "rc_pointer = cur.fetchall()\n",
    "conn.close()\n",
    "rc_pointer = rc_pointer[0][0]\n",
    "rc_pointer"
   ]
  },
  {
   "cell_type": "code",
   "execution_count": null,
   "id": "e1170c3f",
   "metadata": {},
   "outputs": [],
   "source": []
  },
  {
   "cell_type": "code",
   "execution_count": null,
   "id": "6abca17b",
   "metadata": {},
   "outputs": [],
   "source": []
  },
  {
   "cell_type": "code",
   "execution_count": 49,
   "id": "3702ac88",
   "metadata": {},
   "outputs": [
    {
     "data": {
      "text/plain": [
       "4"
      ]
     },
     "execution_count": 49,
     "metadata": {},
     "output_type": "execute_result"
    }
   ],
   "source": [
    "# GreekRisk\n",
    "tc_greek = 195\n",
    "import sqlite3, csv\n",
    "conn = sqlite3.connect(\"main.db\")\n",
    "cur = conn.cursor()\n",
    "sql = \"\"\"\n",
    "SELECT Risk FROM GreekDataSet_chart\n",
    "Where Gender == \"\"\"+\"\\\"\"+Gender.lower()+\"\\\"\"+\"\"\"\n",
    "AND Smoking == \"\"\"+\"\\\"\"+smoking.title()+\"\\\"\"+\"\"\"\n",
    "AND \"\"\"+str(age)+\"\"\" BETWEEN Age_low AND Age_high\n",
    "AND \"\"\"+str(systolic_bp)+\"\"\" BETWEEN Systolic_BP_low AND Systolic_BP_high\n",
    "AND \"\"\"+str(tc_greek)+\"\"\" BETWEEN TC_low AND TC_high;\n",
    "\"\"\"\n",
    "cur.execute(sql)\n",
    "gr_pointer = cur.fetchall()\n",
    "conn.close()\n",
    "gr_pointer = gr_pointer[0][0]\n",
    "gr_pointer"
   ]
  },
  {
   "cell_type": "code",
   "execution_count": 2,
   "id": "3660b3c9",
   "metadata": {},
   "outputs": [
    {
     "data": {
      "text/plain": [
       "'Immediate action required! Contact your doctor.'"
      ]
     },
     "execution_count": 2,
     "metadata": {},
     "output_type": "execute_result"
    }
   ],
   "source": [
    "# Suggestion\n",
    "smoking = 'high risk'\n",
    "import sqlite3, csv\n",
    "conn = sqlite3.connect(\"main.db\")\n",
    "cur = conn.cursor()\n",
    "\n",
    "sql = \"\"\"\n",
    "SELECT suggestion FROM Suggestion_chart\n",
    "Where category == \"\"\"+\"\\\"\"+smoking.lower()+\"\\\"\"+\"\"\";\n",
    "\"\"\"\n",
    "cur.execute(sql)\n",
    "rc_pointer = cur.fetchall()\n",
    "conn.close()\n",
    "rc_pointer = rc_pointer[0][0]\n",
    "rc_pointer"
   ]
  },
  {
   "cell_type": "code",
   "execution_count": null,
   "id": "4408f44f",
   "metadata": {},
   "outputs": [],
   "source": []
  }
 ],
 "metadata": {
  "kernelspec": {
   "display_name": "Python 3 (ipykernel)",
   "language": "python",
   "name": "python3"
  },
  "language_info": {
   "codemirror_mode": {
    "name": "ipython",
    "version": 3
   },
   "file_extension": ".py",
   "mimetype": "text/x-python",
   "name": "python",
   "nbconvert_exporter": "python",
   "pygments_lexer": "ipython3",
   "version": "3.8.11"
  }
 },
 "nbformat": 4,
 "nbformat_minor": 5
}
